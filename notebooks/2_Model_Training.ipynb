{
 "cells": [
  {
   "cell_type": "code",
   "execution_count": 1,
   "id": "749ef054",
   "metadata": {},
   "outputs": [],
   "source": [
    "import numpy as np\n",
    "import pandas as pd\n",
    "import matplotlib.pyplot as plt\n",
    "import seaborn as sns\n",
    "\n",
    "from sklearn.model_selection import train_test_split, StratifiedKFold\n",
    "from sklearn.preprocessing import PowerTransformer, OneHotEncoder\n",
    "from sklearn.compose import ColumnTransformer\n",
    "from sklearn.pipeline import Pipeline\n",
    "from imblearn.over_sampling import SMOTE\n",
    "from imblearn.pipeline import Pipeline as ImbPipeline\n",
    "\n",
    "from sklearn.linear_model import LogisticRegression\n",
    "from sklearn.svm import SVC\n",
    "from sklearn.neighbors import KNeighborsClassifier\n",
    "from sklearn.tree import DecisionTreeClassifier\n",
    "from sklearn.ensemble import AdaBoostClassifier, GradientBoostingClassifier, RandomForestClassifier\n",
    "from xgboost import XGBClassifier\n",
    "from catboost import CatBoostClassifier\n",
    "\n",
    "from sklearn.model_selection import GridSearchCV\n",
    "\n",
    "\n",
    "\n",
    "from sklearn.metrics import (\n",
    "    confusion_matrix,\n",
    "    accuracy_score,\n",
    "    precision_score,\n",
    "    recall_score,\n",
    "    roc_auc_score,\n",
    "    f1_score\n",
    "    \n",
    ")\n",
    "\n",
    "import warnings\n",
    "import os\n",
    "import joblib"
   ]
  },
  {
   "cell_type": "code",
   "execution_count": 2,
   "id": "66c2f121",
   "metadata": {},
   "outputs": [],
   "source": [
    "warnings.filterwarnings('ignore')"
   ]
  },
  {
   "cell_type": "code",
   "execution_count": 4,
   "id": "9ac5fcd4",
   "metadata": {},
   "outputs": [],
   "source": [
    "df = pd.read_parquet('../data/cleaned/cleaned_data.parquet')"
   ]
  },
  {
   "cell_type": "code",
   "execution_count": 9,
   "id": "b287294b",
   "metadata": {},
   "outputs": [
    {
     "data": {
      "application/vnd.microsoft.datawrangler.viewer.v0+json": {
       "columns": [
        {
         "name": "index",
         "rawType": "int64",
         "type": "integer"
        },
        {
         "name": "calories",
         "rawType": "float64",
         "type": "float"
        },
        {
         "name": "carbohydrate",
         "rawType": "float64",
         "type": "float"
        },
        {
         "name": "sugar",
         "rawType": "float64",
         "type": "float"
        },
        {
         "name": "protein",
         "rawType": "float64",
         "type": "float"
        },
        {
         "name": "category",
         "rawType": "object",
         "type": "string"
        },
        {
         "name": "servings",
         "rawType": "int64",
         "type": "integer"
        },
        {
         "name": "high_traffic",
         "rawType": "int64",
         "type": "integer"
        }
       ],
       "ref": "31038da2-1840-44fb-9b93-d35fd2af8874",
       "rows": [
        [
         "0",
         "35.48",
         "38.56",
         "0.66",
         "0.92",
         "Potato",
         "4",
         "1"
        ],
        [
         "1",
         "914.28",
         "42.68",
         "3.09",
         "2.88",
         "Breakfast",
         "1",
         "0"
        ],
        [
         "2",
         "97.03",
         "30.56",
         "38.63",
         "0.02",
         "Beverages",
         "4",
         "1"
        ],
        [
         "3",
         "27.05",
         "1.85",
         "0.8",
         "0.53",
         "Beverages",
         "4",
         "0"
        ],
        [
         "4",
         "691.15",
         "3.46",
         "1.65",
         "53.93",
         "One Dish Meal",
         "2",
         "1"
        ]
       ],
       "shape": {
        "columns": 7,
        "rows": 5
       }
      },
      "text/html": [
       "<div>\n",
       "<style scoped>\n",
       "    .dataframe tbody tr th:only-of-type {\n",
       "        vertical-align: middle;\n",
       "    }\n",
       "\n",
       "    .dataframe tbody tr th {\n",
       "        vertical-align: top;\n",
       "    }\n",
       "\n",
       "    .dataframe thead th {\n",
       "        text-align: right;\n",
       "    }\n",
       "</style>\n",
       "<table border=\"1\" class=\"dataframe\">\n",
       "  <thead>\n",
       "    <tr style=\"text-align: right;\">\n",
       "      <th></th>\n",
       "      <th>calories</th>\n",
       "      <th>carbohydrate</th>\n",
       "      <th>sugar</th>\n",
       "      <th>protein</th>\n",
       "      <th>category</th>\n",
       "      <th>servings</th>\n",
       "      <th>high_traffic</th>\n",
       "    </tr>\n",
       "  </thead>\n",
       "  <tbody>\n",
       "    <tr>\n",
       "      <th>0</th>\n",
       "      <td>35.48</td>\n",
       "      <td>38.56</td>\n",
       "      <td>0.66</td>\n",
       "      <td>0.92</td>\n",
       "      <td>Potato</td>\n",
       "      <td>4</td>\n",
       "      <td>1</td>\n",
       "    </tr>\n",
       "    <tr>\n",
       "      <th>1</th>\n",
       "      <td>914.28</td>\n",
       "      <td>42.68</td>\n",
       "      <td>3.09</td>\n",
       "      <td>2.88</td>\n",
       "      <td>Breakfast</td>\n",
       "      <td>1</td>\n",
       "      <td>0</td>\n",
       "    </tr>\n",
       "    <tr>\n",
       "      <th>2</th>\n",
       "      <td>97.03</td>\n",
       "      <td>30.56</td>\n",
       "      <td>38.63</td>\n",
       "      <td>0.02</td>\n",
       "      <td>Beverages</td>\n",
       "      <td>4</td>\n",
       "      <td>1</td>\n",
       "    </tr>\n",
       "    <tr>\n",
       "      <th>3</th>\n",
       "      <td>27.05</td>\n",
       "      <td>1.85</td>\n",
       "      <td>0.80</td>\n",
       "      <td>0.53</td>\n",
       "      <td>Beverages</td>\n",
       "      <td>4</td>\n",
       "      <td>0</td>\n",
       "    </tr>\n",
       "    <tr>\n",
       "      <th>4</th>\n",
       "      <td>691.15</td>\n",
       "      <td>3.46</td>\n",
       "      <td>1.65</td>\n",
       "      <td>53.93</td>\n",
       "      <td>One Dish Meal</td>\n",
       "      <td>2</td>\n",
       "      <td>1</td>\n",
       "    </tr>\n",
       "  </tbody>\n",
       "</table>\n",
       "</div>"
      ],
      "text/plain": [
       "   calories  carbohydrate  sugar  protein       category  servings  \\\n",
       "0     35.48         38.56   0.66     0.92         Potato         4   \n",
       "1    914.28         42.68   3.09     2.88      Breakfast         1   \n",
       "2     97.03         30.56  38.63     0.02      Beverages         4   \n",
       "3     27.05          1.85   0.80     0.53      Beverages         4   \n",
       "4    691.15          3.46   1.65    53.93  One Dish Meal         2   \n",
       "\n",
       "   high_traffic  \n",
       "0             1  \n",
       "1             0  \n",
       "2             1  \n",
       "3             0  \n",
       "4             1  "
      ]
     },
     "execution_count": 9,
     "metadata": {},
     "output_type": "execute_result"
    }
   ],
   "source": [
    "df.head()"
   ]
  },
  {
   "cell_type": "code",
   "execution_count": 5,
   "id": "be9276b2",
   "metadata": {},
   "outputs": [
    {
     "name": "stdout",
     "output_type": "stream",
     "text": [
      "<class 'pandas.core.frame.DataFrame'>\n",
      "RangeIndex: 895 entries, 0 to 894\n",
      "Data columns (total 7 columns):\n",
      " #   Column        Non-Null Count  Dtype  \n",
      "---  ------        --------------  -----  \n",
      " 0   calories      895 non-null    float64\n",
      " 1   carbohydrate  895 non-null    float64\n",
      " 2   sugar         895 non-null    float64\n",
      " 3   protein       895 non-null    float64\n",
      " 4   category      895 non-null    object \n",
      " 5   servings      895 non-null    object \n",
      " 6   high_traffic  895 non-null    int64  \n",
      "dtypes: float64(4), int64(1), object(2)\n",
      "memory usage: 49.1+ KB\n"
     ]
    }
   ],
   "source": [
    "df.info()"
   ]
  },
  {
   "cell_type": "code",
   "execution_count": 6,
   "id": "c69f9269",
   "metadata": {},
   "outputs": [
    {
     "name": "stdout",
     "output_type": "stream",
     "text": [
      "(895, 6)\n",
      "(895,)\n"
     ]
    }
   ],
   "source": [
    "X = df.drop('high_traffic', axis=1)\n",
    "print(X.shape)\n",
    "y = df['high_traffic']\n",
    "print(y.shape)\n",
    "\n",
    "X_train, X_test, y_train, y_test = train_test_split(X, y, test_size=0.2, random_state=42, stratify=y, shuffle=True)"
   ]
  },
  {
   "cell_type": "code",
   "execution_count": 7,
   "id": "3d7ef896",
   "metadata": {},
   "outputs": [],
   "source": [
    "categorical_columns = X_train.select_dtypes(include='object').columns.tolist()\n",
    "numerical_columns = X_train.select_dtypes(include='number').columns.tolist()\n",
    "\n",
    "\n",
    "ct = ColumnTransformer([('pt', PowerTransformer(), numerical_columns), ('ohe', OneHotEncoder(handle_unknown='ignore'), categorical_columns)])"
   ]
  },
  {
   "cell_type": "code",
   "execution_count": 8,
   "id": "6440d9e4",
   "metadata": {},
   "outputs": [
    {
     "name": "stdout",
     "output_type": "stream",
     "text": [
      "['category', 'servings']\n",
      "['calories', 'carbohydrate', 'sugar', 'protein']\n"
     ]
    }
   ],
   "source": [
    "print(categorical_columns)\n",
    "print(numerical_columns)"
   ]
  },
  {
   "cell_type": "code",
   "execution_count": 9,
   "id": "f8d38b2b",
   "metadata": {},
   "outputs": [],
   "source": [
    "pipe = Pipeline(steps=[(\"ct\", ct)])\n",
    "pipe_with_sampling = Pipeline(steps=[(\"ct\", ct), ('smote', SMOTE(random_state=42))])\n"
   ]
  },
  {
   "cell_type": "code",
   "execution_count": 10,
   "id": "0484c323",
   "metadata": {},
   "outputs": [],
   "source": [
    "models={\n",
    "    'LogisticRegression':LogisticRegression(random_state=42),\n",
    "    'KNeighborsClassifier':KNeighborsClassifier(),\n",
    "    'DecisionTreeClassifier':DecisionTreeClassifier(random_state=42),\n",
    "    'RandomForestClassifier':RandomForestClassifier(random_state=42),\n",
    "    'GradientBoostingClassifier':GradientBoostingClassifier(random_state=42),\n",
    "    'AdaBoostClassifier':AdaBoostClassifier(random_state=42),\n",
    "    'XGBoostClassifier':XGBClassifier(use_label_encoder=False, eval_metric='logloss', random_state=42),\n",
    "    'CatBoostClassifier': CatBoostClassifier(verbose=0, random_state=42)\n",
    "}"
   ]
  },
  {
   "cell_type": "code",
   "execution_count": 11,
   "id": "94966e14",
   "metadata": {},
   "outputs": [],
   "source": [
    "def get_scores(y_true, y_pred, mode='test'):\n",
    "    return {\n",
    "        f\"{mode}_precision_score\": precision_score(y_true, y_pred),\n",
    "        f\"{mode}_recall_score\": recall_score(y_true, y_pred),\n",
    "        f\"{mode}_accuracy_score\": accuracy_score(y_true, y_pred),\n",
    "        f\"{mode}_f1_score\": f1_score(y_true, y_pred),\n",
    "        f\"{mode}_roc_auc_score\": roc_auc_score(y_true, y_pred)\n",
    "    }"
   ]
  },
  {
   "cell_type": "code",
   "execution_count": 12,
   "id": "c9846da1",
   "metadata": {},
   "outputs": [],
   "source": [
    "def evaluate_models(X_train, y_train, X_test, y_test, models):\n",
    "    report = []\n",
    "    \n",
    "    for model_name, model in models.items():\n",
    "        if model_name in ['LogisticRegression', 'KNeighborsClassifier']:\n",
    "            pipe= ImbPipeline(steps=[(\"ct\", ct), ('smote', SMOTE(random_state=42)),('model', model)])\n",
    "            #grid = GridSearchCV(pipe_with_sampling, param, cv=3, n_jobs=-1, scoring='precision')\n",
    "            pipe.fit(X_train, y_train)\n",
    "            \n",
    "        else:\n",
    "            pipe = Pipeline(steps=[(\"ct\", ct),('model', model)])\n",
    "            #grid = GridSearchCV(pipe, param, cv=5, n_jobs=-1, scoring='precision')\n",
    "            pipe.fit(X_train, y_train)\n",
    "        \n",
    "        \n",
    "        \n",
    "        y_train_pred = pipe.predict(X_train)\n",
    "        y_test_pred = pipe.predict(X_test)\n",
    "        \n",
    "        scores = {\n",
    "            \"model_name\": model_name,\n",
    "            **get_scores(y_train, y_train_pred, mode='train'),\n",
    "            **get_scores(y_test, y_test_pred)\n",
    "        }\n",
    "        \n",
    "        report.append(scores)\n",
    "        \n",
    "    results_df = pd.DataFrame(report).set_index(\"model_name\").round(3)\n",
    "    return results_df"
   ]
  },
  {
   "cell_type": "code",
   "execution_count": 13,
   "id": "b2b80e77",
   "metadata": {},
   "outputs": [],
   "source": [
    "results_df = evaluate_models(X_train, y_train, X_test, y_test, models)"
   ]
  },
  {
   "cell_type": "code",
   "execution_count": 14,
   "id": "eb3db283",
   "metadata": {},
   "outputs": [
    {
     "data": {
      "application/vnd.microsoft.datawrangler.viewer.v0+json": {
       "columns": [
        {
         "name": "model_name",
         "rawType": "object",
         "type": "string"
        },
        {
         "name": "test_precision_score",
         "rawType": "float64",
         "type": "float"
        }
       ],
       "ref": "5d1640ed-3711-47ea-91fc-07ffe4c9d4bd",
       "rows": [
        [
         "LogisticRegression",
         "0.863"
        ],
        [
         "GradientBoostingClassifier",
         "0.833"
        ],
        [
         "AdaBoostClassifier",
         "0.813"
        ],
        [
         "RandomForestClassifier",
         "0.8"
        ],
        [
         "CatBoostClassifier",
         "0.786"
        ],
        [
         "KNeighborsClassifier",
         "0.775"
        ],
        [
         "XGBoostClassifier",
         "0.773"
        ],
        [
         "DecisionTreeClassifier",
         "0.726"
        ]
       ],
       "shape": {
        "columns": 1,
        "rows": 8
       }
      },
      "text/plain": [
       "model_name\n",
       "LogisticRegression            0.863\n",
       "GradientBoostingClassifier    0.833\n",
       "AdaBoostClassifier            0.813\n",
       "RandomForestClassifier        0.800\n",
       "CatBoostClassifier            0.786\n",
       "KNeighborsClassifier          0.775\n",
       "XGBoostClassifier             0.773\n",
       "DecisionTreeClassifier        0.726\n",
       "Name: test_precision_score, dtype: float64"
      ]
     },
     "execution_count": 14,
     "metadata": {},
     "output_type": "execute_result"
    }
   ],
   "source": [
    "results_df['test_precision_score'].sort_values(ascending=False)"
   ]
  },
  {
   "cell_type": "code",
   "execution_count": 15,
   "id": "9a4d59e1",
   "metadata": {},
   "outputs": [
    {
     "data": {
      "text/plain": [
       "['LogisticRegression', 'GradientBoostingClassifier', 'AdaBoostClassifier']"
      ]
     },
     "execution_count": 15,
     "metadata": {},
     "output_type": "execute_result"
    }
   ],
   "source": [
    "top_3_base_models = results_df['test_precision_score'].sort_values(ascending=False).nlargest(3).index.values.tolist()\n",
    "\n",
    "top_3_base_models"
   ]
  },
  {
   "cell_type": "code",
   "execution_count": 16,
   "id": "58b56677",
   "metadata": {},
   "outputs": [
    {
     "data": {
      "image/png": "[encoded data removed]",
      "text/plain": [
       "<Figure size 640x480 with 1 Axes>"
      ]
     },
     "metadata": {},
     "output_type": "display_data"
    },
    {
     "data": {
      "image/png": "[encoded data removed]",
      "text/plain": [
       "<Figure size 640x480 with 1 Axes>"
      ]
     },
     "metadata": {},
     "output_type": "display_data"
    },
    {
     "data": {
      "image/png": "[encoded data removed]",
      "text/plain": [
       "<Figure size 640x480 with 1 Axes>"
      ]
     },
     "metadata": {},
     "output_type": "display_data"
    }
   ],
   "source": [
    "for model_name, model in models.items():\n",
    "    \n",
    "    if model_name in top_3_base_models:\n",
    "    \n",
    "        if model_name == 'LogisticRegression':\n",
    "\n",
    "            pipe = ImbPipeline(steps=[(\"ct\", ct), ('smote', SMOTE(random_state=42)),('model', model)])\n",
    "            pipe.fit(X_train, y_train)\n",
    "            \n",
    "            importances_series = pd.Series(abs(pipe.named_steps[\"model\"].coef_[0]), index=pipe.named_steps['ct'].get_feature_names_out())\n",
    "        else:\n",
    "            pipe = Pipeline(steps=[(\"ct\", ct),('model', model)])\n",
    "            pipe.fit(X_train, y_train)\n",
    "    \n",
    "            importances_series = pd.Series(pipe.named_steps['model'].feature_importances_, index=pipe.named_steps['ct'].get_feature_names_out())\n",
    "            \n",
    "        fig, ax = plt.subplots()\n",
    "        sns.barplot(importances_series)\n",
    "        plt.title(f\"Feature importances for {model_name}\")\n",
    "        plt.xticks(rotation=90)\n",
    "        plt.show()"
   ]
  },
  {
   "cell_type": "code",
   "execution_count": 18,
   "id": "a0eab4fc",
   "metadata": {},
   "outputs": [],
   "source": [
    "params = {\n",
    "    \"LogisticRegression\": [\n",
    "        {\n",
    "            'model__penalty': ['l2'],\n",
    "            'model__solver': ['lbfgs', 'liblinear'],\n",
    "            'model__C': [0.01, 0.1, 1.0, 10.0]\n",
    "        },\n",
    "        {\n",
    "            'model__penalty': ['l1'],\n",
    "            'model__solver': ['liblinear', 'saga'],\n",
    "            'model__C': [0.01, 0.1, 1.0, 10.0]\n",
    "        },\n",
    "        {\n",
    "            'model__penalty': ['elasticnet'],\n",
    "            'model__solver': ['saga'],\n",
    "            'model__C': [0.01, 0.1, 1.0, 10.0],\n",
    "            'model__l1_ratio': [0.0, 0.5, 1.0]\n",
    "        }\n",
    "    ],\n",
    "\n",
    "    \"GradientBoostingClassifier\": {\n",
    "        'model__loss': ['log_loss'],\n",
    "        'model__learning_rate': [0.01, 0.05, 0.1, 0.2],\n",
    "        'model__subsample': [0.7, 0.8, 0.9, 1],\n",
    "        'model__criterion': ['friedman_mse', 'squared_error'],\n",
    "        'model__max_features': ['sqrt'],\n",
    "        'model__n_estimators': [10, 50, 100, 150, 200, 250]\n",
    "    },\n",
    "\n",
    "    \"AdaBoostClassifier\": {\n",
    "        'model__learning_rate': [0.01, 0.1, 1, 10],\n",
    "        'model__n_estimators': [10, 50, 100, 150, 200, 250],\n",
    "        'model__algorithm': ['SAMME']\n",
    "    }\n",
    "}"
   ]
  },
  {
   "cell_type": "code",
   "execution_count": 20,
   "id": "2a1f22e6",
   "metadata": {},
   "outputs": [],
   "source": [
    "top3_models={\n",
    "    'LogisticRegression':LogisticRegression(random_state=42),\n",
    "    'GradientBoostingClassifier':GradientBoostingClassifier(random_state=42),\n",
    "    'AdaBoostClassifier':AdaBoostClassifier(random_state=42)\n",
    "}"
   ]
  },
  {
   "cell_type": "code",
   "execution_count": 21,
   "id": "fd57cf3f",
   "metadata": {},
   "outputs": [],
   "source": [
    "def hyperparameter_tuning(X_train, y_train, X_test, y_test, models, params={}):\n",
    "    report = []\n",
    "    best_model_name = None\n",
    "    best_model = None\n",
    "    best_params = None\n",
    "    best_score = 0\n",
    "    \n",
    "    skf = StratifiedKFold(n_splits=5, shuffle=True, random_state=42)\n",
    "    \n",
    "    for model_name, model in models.items():\n",
    "        param = params.get(model_name, {})\n",
    "        \n",
    "        \n",
    "        if model_name in ['LogisticRegression', 'KNeighborsClassifier']:\n",
    "            \n",
    "            pipe_with_sampling = ImbPipeline(steps=[(\"ct\", ct), ('smote', SMOTE(random_state=42)),('model', model)])\n",
    "            grid = GridSearchCV(pipe_with_sampling, param, cv=skf, n_jobs=-1, scoring='precision')\n",
    "            grid.fit(X_train, y_train)\n",
    "            \n",
    "        else:\n",
    "            pipe = Pipeline(steps=[(\"ct\", ct),('model', model)])\n",
    "            grid = GridSearchCV(pipe, param, cv=skf, n_jobs=-1, scoring='precision')\n",
    "            grid.fit(X_train, y_train)\n",
    "        \n",
    "        \n",
    "        \n",
    "        y_train_pred = grid.best_estimator_.predict(X_train)\n",
    "        y_test_pred = grid.best_estimator_.predict(X_test)\n",
    "        \n",
    "        scores = {\n",
    "            \"model_name\": model_name,\n",
    "            **get_scores(y_train, y_train_pred, mode='train'),\n",
    "            **get_scores(y_test, y_test_pred)\n",
    "        }\n",
    "        \n",
    "        if scores['test_precision_score'] > best_score:\n",
    "            best_score = scores['test_precision_score']\n",
    "            best_model_name = model_name\n",
    "            best_model = grid.best_estimator_\n",
    "            best_params = grid.best_params_\n",
    "            \n",
    "        report.append(scores)\n",
    "        \n",
    "    results_df = pd.DataFrame(report).set_index(\"model_name\").round(3)\n",
    "    print(f\"Best model is: {best_model_name} with a precision score of: {best_score:.3f}\")\n",
    "    \n",
    "    return best_model_name, best_model, best_params, results_df"
   ]
  },
  {
   "cell_type": "code",
   "execution_count": 22,
   "id": "60d5b2b6",
   "metadata": {},
   "outputs": [
    {
     "name": "stdout",
     "output_type": "stream",
     "text": [
      "Best model is: LogisticRegression with a precision score of: 0.873\n",
      "Best model: LogisticRegression\n",
      "Best params: {'model__C': 10.0, 'model__penalty': 'l2', 'model__solver': 'lbfgs'}\n"
     ]
    }
   ],
   "source": [
    "best_model_name, best_model, best_params, results_df = hyperparameter_tuning(X_train, y_train, X_test, y_test, top3_models, params)\n",
    "\n",
    "print(f\"Best model: {best_model_name}\")\n",
    "print(f\"Best params: {best_params}\")"
   ]
  },
  {
   "cell_type": "code",
   "execution_count": 23,
   "id": "32d1e976",
   "metadata": {},
   "outputs": [
    {
     "data": {
      "application/vnd.microsoft.datawrangler.viewer.v0+json": {
       "columns": [
        {
         "name": "model_name",
         "rawType": "object",
         "type": "string"
        },
        {
         "name": "train_precision_score",
         "rawType": "float64",
         "type": "float"
        },
        {
         "name": "train_recall_score",
         "rawType": "float64",
         "type": "float"
        },
        {
         "name": "train_accuracy_score",
         "rawType": "float64",
         "type": "float"
        },
        {
         "name": "train_f1_score",
         "rawType": "float64",
         "type": "float"
        },
        {
         "name": "train_roc_auc_score",
         "rawType": "float64",
         "type": "float"
        },
        {
         "name": "test_precision_score",
         "rawType": "float64",
         "type": "float"
        },
        {
         "name": "test_recall_score",
         "rawType": "float64",
         "type": "float"
        },
        {
         "name": "test_accuracy_score",
         "rawType": "float64",
         "type": "float"
        },
        {
         "name": "test_f1_score",
         "rawType": "float64",
         "type": "float"
        },
        {
         "name": "test_roc_auc_score",
         "rawType": "float64",
         "type": "float"
        }
       ],
       "ref": "d9dff967-3b26-4589-9260-c3e1e1706f2e",
       "rows": [
        [
         "LogisticRegression",
         "0.847",
         "0.71",
         "0.75",
         "0.773",
         "0.76",
         "0.873",
         "0.579",
         "0.698",
         "0.697",
         "0.727"
        ],
        [
         "GradientBoostingClassifier",
         "0.858",
         "0.874",
         "0.838",
         "0.866",
         "0.829",
         "0.823",
         "0.738",
         "0.749",
         "0.778",
         "0.751"
        ],
        [
         "AdaBoostClassifier",
         "0.792",
         "0.82",
         "0.764",
         "0.806",
         "0.75",
         "0.854",
         "0.766",
         "0.782",
         "0.808",
         "0.786"
        ]
       ],
       "shape": {
        "columns": 10,
        "rows": 3
       }
      },
      "text/html": [
       "<div>\n",
       "<style scoped>\n",
       "    .dataframe tbody tr th:only-of-type {\n",
       "        vertical-align: middle;\n",
       "    }\n",
       "\n",
       "    .dataframe tbody tr th {\n",
       "        vertical-align: top;\n",
       "    }\n",
       "\n",
       "    .dataframe thead th {\n",
       "        text-align: right;\n",
       "    }\n",
       "</style>\n",
       "<table border=\"1\" class=\"dataframe\">\n",
       "  <thead>\n",
       "    <tr style=\"text-align: right;\">\n",
       "      <th></th>\n",
       "      <th>train_precision_score</th>\n",
       "      <th>train_recall_score</th>\n",
       "      <th>train_accuracy_score</th>\n",
       "      <th>train_f1_score</th>\n",
       "      <th>train_roc_auc_score</th>\n",
       "      <th>test_precision_score</th>\n",
       "      <th>test_recall_score</th>\n",
       "      <th>test_accuracy_score</th>\n",
       "      <th>test_f1_score</th>\n",
       "      <th>test_roc_auc_score</th>\n",
       "    </tr>\n",
       "    <tr>\n",
       "      <th>model_name</th>\n",
       "      <th></th>\n",
       "      <th></th>\n",
       "      <th></th>\n",
       "      <th></th>\n",
       "      <th></th>\n",
       "      <th></th>\n",
       "      <th></th>\n",
       "      <th></th>\n",
       "      <th></th>\n",
       "      <th></th>\n",
       "    </tr>\n",
       "  </thead>\n",
       "  <tbody>\n",
       "    <tr>\n",
       "      <th>LogisticRegression</th>\n",
       "      <td>0.847</td>\n",
       "      <td>0.710</td>\n",
       "      <td>0.750</td>\n",
       "      <td>0.773</td>\n",
       "      <td>0.760</td>\n",
       "      <td>0.873</td>\n",
       "      <td>0.579</td>\n",
       "      <td>0.698</td>\n",
       "      <td>0.697</td>\n",
       "      <td>0.727</td>\n",
       "    </tr>\n",
       "    <tr>\n",
       "      <th>GradientBoostingClassifier</th>\n",
       "      <td>0.858</td>\n",
       "      <td>0.874</td>\n",
       "      <td>0.838</td>\n",
       "      <td>0.866</td>\n",
       "      <td>0.829</td>\n",
       "      <td>0.823</td>\n",
       "      <td>0.738</td>\n",
       "      <td>0.749</td>\n",
       "      <td>0.778</td>\n",
       "      <td>0.751</td>\n",
       "    </tr>\n",
       "    <tr>\n",
       "      <th>AdaBoostClassifier</th>\n",
       "      <td>0.792</td>\n",
       "      <td>0.820</td>\n",
       "      <td>0.764</td>\n",
       "      <td>0.806</td>\n",
       "      <td>0.750</td>\n",
       "      <td>0.854</td>\n",
       "      <td>0.766</td>\n",
       "      <td>0.782</td>\n",
       "      <td>0.808</td>\n",
       "      <td>0.786</td>\n",
       "    </tr>\n",
       "  </tbody>\n",
       "</table>\n",
       "</div>"
      ],
      "text/plain": [
       "                            train_precision_score  train_recall_score  \\\n",
       "model_name                                                              \n",
       "LogisticRegression                          0.847               0.710   \n",
       "GradientBoostingClassifier                  0.858               0.874   \n",
       "AdaBoostClassifier                          0.792               0.820   \n",
       "\n",
       "                            train_accuracy_score  train_f1_score  \\\n",
       "model_name                                                         \n",
       "LogisticRegression                         0.750           0.773   \n",
       "GradientBoostingClassifier                 0.838           0.866   \n",
       "AdaBoostClassifier                         0.764           0.806   \n",
       "\n",
       "                            train_roc_auc_score  test_precision_score  \\\n",
       "model_name                                                              \n",
       "LogisticRegression                        0.760                 0.873   \n",
       "GradientBoostingClassifier                0.829                 0.823   \n",
       "AdaBoostClassifier                        0.750                 0.854   \n",
       "\n",
       "                            test_recall_score  test_accuracy_score  \\\n",
       "model_name                                                           \n",
       "LogisticRegression                      0.579                0.698   \n",
       "GradientBoostingClassifier              0.738                0.749   \n",
       "AdaBoostClassifier                      0.766                0.782   \n",
       "\n",
       "                            test_f1_score  test_roc_auc_score  \n",
       "model_name                                                     \n",
       "LogisticRegression                  0.697               0.727  \n",
       "GradientBoostingClassifier          0.778               0.751  \n",
       "AdaBoostClassifier                  0.808               0.786  "
      ]
     },
     "execution_count": 23,
     "metadata": {},
     "output_type": "execute_result"
    }
   ],
   "source": [
    "results_df"
   ]
  },
  {
   "cell_type": "code",
   "execution_count": 24,
   "id": "43fc5d1f",
   "metadata": {},
   "outputs": [
    {
     "data": {
      "text/plain": [
       "['c:\\\\Users\\\\Ricsi\\\\Desktop\\\\git_folder\\\\recipe_traffic_classification\\\\notebooks\\\\models\\\\best_model.joblib']"
      ]
     },
     "execution_count": 24,
     "metadata": {},
     "output_type": "execute_result"
    }
   ],
   "source": [
    "dir_path = os.path.join(os.getcwd(),'models')\n",
    "\n",
    "os.makedirs(dir_path)\n",
    "\n",
    "joblib.dump(best_model,os.path.join(dir_path,\"best_model.joblib\"))"
   ]
  },
  {
   "cell_type": "code",
   "execution_count": null,
   "id": "2fcd0b4d",
   "metadata": {},
   "outputs": [],
   "source": []
  }
 ],
 "metadata": {
  "kernelspec": {
   "display_name": ".venv",
   "language": "python",
   "name": "python3"
  },
  "language_info": {
   "codemirror_mode": {
    "name": "ipython",
    "version": 3
   },
   "file_extension": ".py",
   "mimetype": "text/x-python",
   "name": "python",
   "nbconvert_exporter": "python",
   "pygments_lexer": "ipython3",
   "version": "3.10.0"
  }
 },
 "nbformat": 4,
 "nbformat_minor": 5
}
