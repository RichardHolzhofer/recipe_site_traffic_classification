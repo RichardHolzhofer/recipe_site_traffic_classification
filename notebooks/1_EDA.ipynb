{
 "cells": [
  {
   "cell_type": "markdown",
   "id": "065404d0",
   "metadata": {},
   "source": [
    "# Recipe Site Traffic Prediction\n",
    "\n",
    "#### Problem statement:\n",
    "The marketing department selects a recipe each day to post on the homepage of the company's website. They have noticed that traffic to the rest of the website increases by as much as 40% if they pick a popular recipe. Since high traffic leads to more subscriptions to the company's services, they want to maximize traffic to their website.\n",
    "Currently, they don't know how to determine whether a recipe will be popular, so they want a reliable solution that can select popular recipes at least 80% of the time."
   ]
  },
  {
   "cell_type": "markdown",
   "id": "7a5dc4fc",
   "metadata": {},
   "source": [
    "## Data Validation and Data Cleaning\n",
    "\n",
    "This data set has 947 rows and 8 columns. I have validated all variables and made the following changes:\n",
    "\n",
    "- recipe: Numeric, unique ID, no missing values. Removed from the dataset.\n",
    "- calories: Numeric, 52 missing values.\n",
    "- carbohydrate: Numeric, 52 missing values.\n",
    "- sugar: Numeric, 52 missing values.\n",
    "- protein: Numeric, 52 missing values.\n",
    "- category: Object, no missing values, 11 uniqe values. 'Chicken Breast' converted to 'Chicken'. 10 unique categories remained, just as described.\n",
    "- servings: Object, no missig values. Cleaned 3 records with ' as a snack'.\n",
    "- high_traffic: Object, 373 missing values representing not High traffic recipes. Column mapped as: missig values(not high traffic recipes) - 0, 'High'(high traffic recipes) - 1.\n",
    "\n",
    "Missing values in column 'calories', 'carbohydrate', 'sugar' and 'protein' are correlated and therefore records with missing data are dropped from the dataset."
   ]
  },
  {
   "cell_type": "code",
   "execution_count": null,
   "id": "960be2f3",
   "metadata": {},
   "outputs": [],
   "source": [
    "import numpy as np\n",
    "import pandas as pd\n",
    "import matplotlib.pyplot as plt\n",
    "import seaborn as sns\n",
    "import missingno as msno"
   ]
  }
 ],
 "metadata": {
  "language_info": {
   "name": "python"
  }
 },
 "nbformat": 4,
 "nbformat_minor": 5
}
